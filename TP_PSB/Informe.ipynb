{
 "cells": [
  {
   "cell_type": "markdown",
   "metadata": {},
   "source": [
    "<center>\n",
    "\n",
    "# Trabajo Práctico Final\n",
    "\n",
    "## Procesamiento de señales biomédicas\n",
    "\n",
    "### Primer Cuatrimestre 2024\n",
    "\n",
    "</center>\n",
    "\n",
    "**Docentes:**\n",
    "\n",
    "- Roberto Sebastián Tomás\n",
    "- Aylin Agatha Vazquez Chenlo\n",
    "- Francisco Tassara\n",
    "- Victoria Reppucci\n",
    "\n",
    "**Alumnxs:**\n",
    "\n",
    "- Bajlec, Ivo - 62175\n",
    "- Grau, Gonzalo - 62259\n",
    "- Pereira, Camila Noemi - 61574"
   ]
  },
  {
   "cell_type": "markdown",
   "metadata": {},
   "source": [
    "### Objetivo del trabajo"
   ]
  },
  {
   "cell_type": "markdown",
   "metadata": {},
   "source": [
    "El objetivo del presente trabajo es desarrollar un algoritmo, implementado los conocimientos obtenidos en las clases teóricas, que nos permita obtener una medida que sea lo más objetiva posible sobre la percepción sonora. Para realizar esto, el algoritmo que se desarrolló, se busco que sea capaz de procesar las información de los potenciales evocados, por medio de los cuatro tipos de promedios: homogéneo, inhomogéneo con amplitud variable, inhomogéneo con varianza variable e inhomogéneo con amplitud y varianza variable, y con la implementación de diferentes métodos como welch, interpretar esa información obtenida como un nivel de percepción sonora.  "
   ]
  },
  {
   "cell_type": "markdown",
   "metadata": {},
   "source": [
    "### Estado del arte "
   ]
  },
  {
   "cell_type": "markdown",
   "metadata": {},
   "source": [
    "Los potenciales evocados son pruebas diagnósticas que evalúan la integridad de las vías sensitivas a través de la estimulación sensorial, en este caso auditiva, y el registro de las respuestas cerebrales. Dichas respuestas, se registran mediante estímulos repetitivos y se promedian para mejorar la relación señal-ruido, permitiendo una evaluación más precisa de las vías neuronales estimuladas. Link = https://www.cun.es/enfermedades-tratamientos/pruebas-diagnosticas/potenciales-evocados\n",
    "\n",
    "**Tipos de potenciales evocados:**\n",
    "1) Emisiones otoacústicas (OAE): este tipo de sonidos son emitidos por el oído interno, precisamente por las células ciliadas externas de la cóclea, como respuesta a un estímulo auditivo. Estas emisiones se utilizan para evaluar la función coclear, además de resultar útiles para la detección temprana de la pérdida auditiva. Métodos como las emisiones otoacústicas transitorias, que se basan en OAE, son utilizadas para estimar el crecimiento de la sonoridad.\n",
    "\n",
    "2) Respuestas auditivas evocadas del tronco del encéfalo (ABR): este tipo de potenciales son generados por la actividad neural en el tronco del encéfalo en respuesta a estímulos auditivos. Los ABR reflejan la actividad neural desde el nervio auditivo hasta el tronco del encéfalo. Las grabaciones de ABR, se utilizan para evaluar la audición y la integridad de las vías auditivas centrales, siendo útiles para estimar el umbral auditivo y detectar problemas neurológicos que puedan afectar las vías auditivas. Otro método también utilizado es el de las ABR con explosiones de tonos (TBABR),  que sirve para estimar el crecimiento de la sonoridad en relación con la intensidad del estímulo.\n",
    "\n",
    "**Talamo**\n",
    "\n",
    "Para el procesamiento de los potenciales evocados, el tálamo termina resultando ser una estructura clave debido a que actúa como un relevo para la información sensorial que se dirige hacia la corteza cerebral. En particular, las señales auditivas, pasan por el núcleo geniculado medial del tálamo antes de llegar a la corteza. Esta vía, termina resultando fundamental para la percepción auditiva y la integración sensorial, de esta manera el cerebro puede procesar y responder a los estímulos auditivos. Links = https://www.fisioterapia-online.com/glosario/talamo-o-estructura-del-cerebro y https://www.cochlea.eu/es/cerebro-auditivo/talamo-corteza#:~:text=El%20t%C3%A1lamo%20auditivo%2C%20Cuerpo%20Geniculado,ascendentes%20al%20cortex%20auditivo%20primario.\n"
   ]
  },
  {
   "cell_type": "markdown",
   "metadata": {},
   "source": [
    "### Base de datos"
   ]
  },
  {
   "cell_type": "markdown",
   "metadata": {},
   "source": [
    "Para realizar nuestro trabajo, la cátedra nos proporcionó una base de datos disponible en https://physionet.org/content/earndb/1.0.0/ , que fue creada y aportada por Michael J.Epstein e Ikaro Silva. La base fue generada como parte de un estudio sobre potenciales evocados y el crecimiento de la sonoridad, esta cuenta con dos conjuntos de señales fisiológicas: ABR y OAE que se registraron en conjunto en una cabina insonorizada y eléctricamente blindada, y dos conjuntos de estimaciones psicoacústicas de la sonoridad en función del nivel de presión sonora pico (peSPL).\n",
    "\n",
    "Además de los datos sin procesar, se realizaron para cada nivel dos promedios ponderados de las grabaciones de ABR y OAE, el primero consistió en la media ponderada de todas las pruebas de la primera mitad y el segundo de todas las pruebas de la segunda mitad. Para cada frecuencia, el estímulo se presentó en forma creciente desde el umbral de oyente, que se determinó a partir del umbral máximo del procedimiento CMM o ME, hasta los 100 dB peSPL en pasos de 5 dB.\n",
    "\n",
    "Los archivos para cada sujeto NX que se obtuvieron fueron los siguientes:\n",
    "\n",
    "Datos promediados:\n",
    "- Nx_evoked_avelevel_Ffreq_Rrep.dat: archivo binario con señales ABR y OAE.\n",
    "- Nx_evoked_avelevel_Ffreq_Rrep.hea: archivo de encabezado con comentarios sobre sexo, oido presentado, edad del sujeto, numero de pruebas utilizadas en el prmedio, nivel de ruido residual estimado y relacion señal ruido ponderada estimada.\n",
    "- Nx_LoudnessData_Ffreq.txt: mediciones de sonoridad en unidades logarítmicas obtenidas mediante procedimientos psicoacústicos.\n",
    "\n",
    "Datos sin procesar: \n",
    "- Nx_evoked_rawlevel_Ffreq_Rrep.dat: archivo binario con señales ABR y OAE.\n",
    "- Nx_evoked_rawlevel_Freq_ Rrep.hea: archivo de encabezado con comentarios sobre nivel de estímulo, frecuencia del estímulo, oído presentado, longitud de la prueba y condición.\n",
    "- Nx_evoked_rawlevel_Ffreq_Rrep.trg: archivo binario de anotación que indica el inicio de la prueba con respecto al inicio del estímulo.\n",
    "\n",
    "Aclaraciones: x representa el ID del oyente (1 al 8), level = peSPL del estímulo (Este es el que va aumentando desde el umbral hasta 100 dB en pasos de 5dB), freq = frecuencia del estímulo en kHz y rep = 1 o 2 indicando que promedio representa. Además, en el 20% de los casos, ocurrió que uno de los canales estaba severamente dañado por artefactos eléctricos y se lo eliminó de los archivos (los nombres de los archivos finalizar con _x).\n"
   ]
  },
  {
   "cell_type": "markdown",
   "metadata": {},
   "source": [
    "### Materiales y métodos"
   ]
  },
  {
   "cell_type": "markdown",
   "metadata": {},
   "source": [
    "Para el desarrollo de este trabajo, se hará uso de los siguientes módulos de código abierto:\n",
    "- numpy\n",
    "- matplotlib\n",
    "- pandas\n",
    "- scipy\n",
    "\n",
    "Además, se desarrollaron dos módulos propios que se encuentran disponibles en los archivos _data\\_hea\\_reader.py_ y _eeg\\_avg.py_. En el caso de _data\\_hea\\_reader.py_, este archivo contiene funciones que permiten leer y procesar datos de señales EEG desde archivos que se encuentran en formato '.dat' y '.hea'. Y respecto al archivo _eeg\\_avg.py_, este contiene funciones que permite simular y analizar potenciales evocados relacionados con eventos a partir de señales de EEG.\n",
    "\n",
    "En base a nuestro objetivo, el procedimiento aplicado consiste de los siguientes pasos:\n",
    "\n",
    "1) .....\n",
    "2) .....\n",
    "3) .....\n"
   ]
  }
 ],
 "metadata": {
  "language_info": {
   "name": "python"
  }
 },
 "nbformat": 4,
 "nbformat_minor": 2
}
